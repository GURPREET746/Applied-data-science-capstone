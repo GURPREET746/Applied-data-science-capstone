{
  "nbformat": 4,
  "nbformat_minor": 0,
  "metadata": {
    "colab": {
      "name": "week2_2nd.ipynb",
      "provenance": [],
      "authorship_tag": "ABX9TyNkYvmKtNdUTUbwhjCLZhZK",
      "include_colab_link": true
    },
    "kernelspec": {
      "name": "python3",
      "display_name": "Python 3"
    }
  },
  "cells": [
    {
      "cell_type": "markdown",
      "metadata": {
        "id": "view-in-github",
        "colab_type": "text"
      },
      "source": [
        "<a href=\"https://colab.research.google.com/github/GURPREET746/Applied-data-science-capstone/blob/main/week2_2nd.ipynb\" target=\"_parent\"><img src=\"https://colab.research.google.com/assets/colab-badge.svg\" alt=\"Open In Colab\"/></a>"
      ]
    },
    {
      "cell_type": "code",
      "metadata": {
        "colab": {
          "base_uri": "https://localhost:8080/"
        },
        "id": "vNnBbGeXPvjN",
        "outputId": "69c89d30-dfbd-4c95-da5b-01877bd17c34"
      },
      "source": [
        "!pip install geocoder"
      ],
      "execution_count": 1,
      "outputs": [
        {
          "output_type": "stream",
          "text": [
            "Requirement already satisfied: geocoder in /usr/local/lib/python3.6/dist-packages (1.38.1)\n",
            "Requirement already satisfied: ratelim in /usr/local/lib/python3.6/dist-packages (from geocoder) (0.1.6)\n",
            "Requirement already satisfied: click in /usr/local/lib/python3.6/dist-packages (from geocoder) (7.1.2)\n",
            "Requirement already satisfied: requests in /usr/local/lib/python3.6/dist-packages (from geocoder) (2.23.0)\n",
            "Requirement already satisfied: future in /usr/local/lib/python3.6/dist-packages (from geocoder) (0.16.0)\n",
            "Requirement already satisfied: six in /usr/local/lib/python3.6/dist-packages (from geocoder) (1.15.0)\n",
            "Requirement already satisfied: decorator in /usr/local/lib/python3.6/dist-packages (from ratelim->geocoder) (4.4.2)\n",
            "Requirement already satisfied: idna<3,>=2.5 in /usr/local/lib/python3.6/dist-packages (from requests->geocoder) (2.10)\n",
            "Requirement already satisfied: certifi>=2017.4.17 in /usr/local/lib/python3.6/dist-packages (from requests->geocoder) (2020.12.5)\n",
            "Requirement already satisfied: chardet<4,>=3.0.2 in /usr/local/lib/python3.6/dist-packages (from requests->geocoder) (3.0.4)\n",
            "Requirement already satisfied: urllib3!=1.25.0,!=1.25.1,<1.26,>=1.21.1 in /usr/local/lib/python3.6/dist-packages (from requests->geocoder) (1.24.3)\n"
          ],
          "name": "stdout"
        }
      ]
    },
    {
      "cell_type": "code",
      "metadata": {
        "id": "vLR0OkevOfwL"
      },
      "source": [
        "import pandas as pd\r\n",
        "import numpy as np\r\n",
        "import geocoder"
      ],
      "execution_count": 2,
      "outputs": []
    },
    {
      "cell_type": "code",
      "metadata": {
        "colab": {
          "base_uri": "https://localhost:8080/",
          "height": 204
        },
        "id": "YYGMRHdOOpyH",
        "outputId": "a75f1bd8-4bc9-4300-9bfe-cba5a90cec44"
      },
      "source": [
        "df = pd.read_csv('toronto.csv')\r\n",
        "df.head()"
      ],
      "execution_count": 3,
      "outputs": [
        {
          "output_type": "execute_result",
          "data": {
            "text/html": [
              "<div>\n",
              "<style scoped>\n",
              "    .dataframe tbody tr th:only-of-type {\n",
              "        vertical-align: middle;\n",
              "    }\n",
              "\n",
              "    .dataframe tbody tr th {\n",
              "        vertical-align: top;\n",
              "    }\n",
              "\n",
              "    .dataframe thead th {\n",
              "        text-align: right;\n",
              "    }\n",
              "</style>\n",
              "<table border=\"1\" class=\"dataframe\">\n",
              "  <thead>\n",
              "    <tr style=\"text-align: right;\">\n",
              "      <th></th>\n",
              "      <th>Postalcode</th>\n",
              "      <th>Borough</th>\n",
              "      <th>Neighborhood</th>\n",
              "    </tr>\n",
              "  </thead>\n",
              "  <tbody>\n",
              "    <tr>\n",
              "      <th>0</th>\n",
              "      <td>M1A\\n</td>\n",
              "      <td>Not assigned\\n</td>\n",
              "      <td>Not assigned\\n</td>\n",
              "    </tr>\n",
              "    <tr>\n",
              "      <th>1</th>\n",
              "      <td>M1B\\n</td>\n",
              "      <td>Scarborough\\n</td>\n",
              "      <td>Malvern, Rouge</td>\n",
              "    </tr>\n",
              "    <tr>\n",
              "      <th>2</th>\n",
              "      <td>M1C\\n</td>\n",
              "      <td>Scarborough\\n</td>\n",
              "      <td>Rouge Hill, Port Union, Highland Creek</td>\n",
              "    </tr>\n",
              "    <tr>\n",
              "      <th>3</th>\n",
              "      <td>M1E\\n</td>\n",
              "      <td>Scarborough\\n</td>\n",
              "      <td>Guildwood, Morningside, West Hill</td>\n",
              "    </tr>\n",
              "    <tr>\n",
              "      <th>4</th>\n",
              "      <td>M1G\\n</td>\n",
              "      <td>Scarborough\\n</td>\n",
              "      <td>Woburn</td>\n",
              "    </tr>\n",
              "  </tbody>\n",
              "</table>\n",
              "</div>"
            ],
            "text/plain": [
              "  Postalcode         Borough                            Neighborhood\n",
              "0      M1A\\n  Not assigned\\n                          Not assigned\\n\n",
              "1      M1B\\n   Scarborough\\n                          Malvern, Rouge\n",
              "2      M1C\\n   Scarborough\\n  Rouge Hill, Port Union, Highland Creek\n",
              "3      M1E\\n   Scarborough\\n       Guildwood, Morningside, West Hill\n",
              "4      M1G\\n   Scarborough\\n                                  Woburn"
            ]
          },
          "metadata": {
            "tags": []
          },
          "execution_count": 3
        }
      ]
    },
    {
      "cell_type": "code",
      "metadata": {
        "colab": {
          "base_uri": "https://localhost:8080/",
          "height": 190
        },
        "id": "lz6qsGlNOsB6",
        "outputId": "26cb95fe-7884-4a93-f540-4d50876e29a5"
      },
      "source": [
        "print(df.shape)\r\n",
        "df.describe()"
      ],
      "execution_count": 4,
      "outputs": [
        {
          "output_type": "stream",
          "text": [
            "(180, 3)\n"
          ],
          "name": "stdout"
        },
        {
          "output_type": "execute_result",
          "data": {
            "text/html": [
              "<div>\n",
              "<style scoped>\n",
              "    .dataframe tbody tr th:only-of-type {\n",
              "        vertical-align: middle;\n",
              "    }\n",
              "\n",
              "    .dataframe tbody tr th {\n",
              "        vertical-align: top;\n",
              "    }\n",
              "\n",
              "    .dataframe thead th {\n",
              "        text-align: right;\n",
              "    }\n",
              "</style>\n",
              "<table border=\"1\" class=\"dataframe\">\n",
              "  <thead>\n",
              "    <tr style=\"text-align: right;\">\n",
              "      <th></th>\n",
              "      <th>Postalcode</th>\n",
              "      <th>Borough</th>\n",
              "      <th>Neighborhood</th>\n",
              "    </tr>\n",
              "  </thead>\n",
              "  <tbody>\n",
              "    <tr>\n",
              "      <th>count</th>\n",
              "      <td>180</td>\n",
              "      <td>180</td>\n",
              "      <td>180</td>\n",
              "    </tr>\n",
              "    <tr>\n",
              "      <th>unique</th>\n",
              "      <td>180</td>\n",
              "      <td>11</td>\n",
              "      <td>100</td>\n",
              "    </tr>\n",
              "    <tr>\n",
              "      <th>top</th>\n",
              "      <td>M5S\\n</td>\n",
              "      <td>Not assigned\\n</td>\n",
              "      <td>Not assigned\\n</td>\n",
              "    </tr>\n",
              "    <tr>\n",
              "      <th>freq</th>\n",
              "      <td>1</td>\n",
              "      <td>77</td>\n",
              "      <td>77</td>\n",
              "    </tr>\n",
              "  </tbody>\n",
              "</table>\n",
              "</div>"
            ],
            "text/plain": [
              "       Postalcode         Borough    Neighborhood\n",
              "count         180             180             180\n",
              "unique        180              11             100\n",
              "top         M5S\\n  Not assigned\\n  Not assigned\\n\n",
              "freq            1              77              77"
            ]
          },
          "metadata": {
            "tags": []
          },
          "execution_count": 4
        }
      ]
    },
    {
      "cell_type": "code",
      "metadata": {
        "colab": {
          "base_uri": "https://localhost:8080/"
        },
        "id": "v7Aveil_OuwG",
        "outputId": "5cd2b742-62c8-4241-89ca-d1755eb4818b"
      },
      "source": [
        "def get_latilong(postal_code):\r\n",
        "    lati_long_coords = None\r\n",
        "    while(lati_long_coords is None):\r\n",
        "        g = geocoder.arcgis('{}, Toronto, Ontario'.format(postal_code))\r\n",
        "        lati_long_coords = g.latlng\r\n",
        "    return lati_long_coords\r\n",
        "    \r\n",
        "get_latilong('M4G')"
      ],
      "execution_count": 5,
      "outputs": [
        {
          "output_type": "execute_result",
          "data": {
            "text/plain": [
              "[43.709020000000066, -79.36348999999996]"
            ]
          },
          "metadata": {
            "tags": []
          },
          "execution_count": 5
        }
      ]
    },
    {
      "cell_type": "code",
      "metadata": {
        "colab": {
          "base_uri": "https://localhost:8080/",
          "height": 49
        },
        "id": "NnCEHuEROw1k",
        "outputId": "db8e4d7a-b569-4791-b102-9c134700f0b3"
      },
      "source": [
        "# Retrieving Postal Code Co-ordinates\r\n",
        "postal_codes = df['Postalcode']    \r\n",
        "coords = [ get_latilong(postal_code) for postal_code in postal_codes.tolist() ]\r\n",
        "# Adding Columns Latitude & Longitude\r\n",
        "df_coords = pd.DataFrame(coords, columns=['Latitude', 'Longitude'])\r\n",
        "df['Latitude'] = df_coords['Latitude']\r\n",
        "df['Longitude'] = df_coords['Longitude']\r\n",
        "df[df.Postalcode == 'M5G']"
      ],
      "execution_count": 6,
      "outputs": [
        {
          "output_type": "execute_result",
          "data": {
            "text/html": [
              "<div>\n",
              "<style scoped>\n",
              "    .dataframe tbody tr th:only-of-type {\n",
              "        vertical-align: middle;\n",
              "    }\n",
              "\n",
              "    .dataframe tbody tr th {\n",
              "        vertical-align: top;\n",
              "    }\n",
              "\n",
              "    .dataframe thead th {\n",
              "        text-align: right;\n",
              "    }\n",
              "</style>\n",
              "<table border=\"1\" class=\"dataframe\">\n",
              "  <thead>\n",
              "    <tr style=\"text-align: right;\">\n",
              "      <th></th>\n",
              "      <th>Postalcode</th>\n",
              "      <th>Borough</th>\n",
              "      <th>Neighborhood</th>\n",
              "      <th>Latitude</th>\n",
              "      <th>Longitude</th>\n",
              "    </tr>\n",
              "  </thead>\n",
              "  <tbody>\n",
              "  </tbody>\n",
              "</table>\n",
              "</div>"
            ],
            "text/plain": [
              "Empty DataFrame\n",
              "Columns: [Postalcode, Borough, Neighborhood, Latitude, Longitude]\n",
              "Index: []"
            ]
          },
          "metadata": {
            "tags": []
          },
          "execution_count": 6
        }
      ]
    },
    {
      "cell_type": "code",
      "metadata": {
        "colab": {
          "base_uri": "https://localhost:8080/",
          "height": 514
        },
        "id": "HD4XLCDtO4ZF",
        "outputId": "b2182b40-9570-4671-af2b-b44a142db0b0"
      },
      "source": [
        "df.head(15)"
      ],
      "execution_count": 7,
      "outputs": [
        {
          "output_type": "execute_result",
          "data": {
            "text/html": [
              "<div>\n",
              "<style scoped>\n",
              "    .dataframe tbody tr th:only-of-type {\n",
              "        vertical-align: middle;\n",
              "    }\n",
              "\n",
              "    .dataframe tbody tr th {\n",
              "        vertical-align: top;\n",
              "    }\n",
              "\n",
              "    .dataframe thead th {\n",
              "        text-align: right;\n",
              "    }\n",
              "</style>\n",
              "<table border=\"1\" class=\"dataframe\">\n",
              "  <thead>\n",
              "    <tr style=\"text-align: right;\">\n",
              "      <th></th>\n",
              "      <th>Postalcode</th>\n",
              "      <th>Borough</th>\n",
              "      <th>Neighborhood</th>\n",
              "      <th>Latitude</th>\n",
              "      <th>Longitude</th>\n",
              "    </tr>\n",
              "  </thead>\n",
              "  <tbody>\n",
              "    <tr>\n",
              "      <th>0</th>\n",
              "      <td>M1A\\n</td>\n",
              "      <td>Not assigned\\n</td>\n",
              "      <td>Not assigned\\n</td>\n",
              "      <td>43.64869</td>\n",
              "      <td>-79.38544</td>\n",
              "    </tr>\n",
              "    <tr>\n",
              "      <th>1</th>\n",
              "      <td>M1B\\n</td>\n",
              "      <td>Scarborough\\n</td>\n",
              "      <td>Malvern, Rouge</td>\n",
              "      <td>43.81139</td>\n",
              "      <td>-79.19662</td>\n",
              "    </tr>\n",
              "    <tr>\n",
              "      <th>2</th>\n",
              "      <td>M1C\\n</td>\n",
              "      <td>Scarborough\\n</td>\n",
              "      <td>Rouge Hill, Port Union, Highland Creek</td>\n",
              "      <td>43.78574</td>\n",
              "      <td>-79.15875</td>\n",
              "    </tr>\n",
              "    <tr>\n",
              "      <th>3</th>\n",
              "      <td>M1E\\n</td>\n",
              "      <td>Scarborough\\n</td>\n",
              "      <td>Guildwood, Morningside, West Hill</td>\n",
              "      <td>43.76575</td>\n",
              "      <td>-79.17470</td>\n",
              "    </tr>\n",
              "    <tr>\n",
              "      <th>4</th>\n",
              "      <td>M1G\\n</td>\n",
              "      <td>Scarborough\\n</td>\n",
              "      <td>Woburn</td>\n",
              "      <td>43.76812</td>\n",
              "      <td>-79.21761</td>\n",
              "    </tr>\n",
              "    <tr>\n",
              "      <th>5</th>\n",
              "      <td>M1H\\n</td>\n",
              "      <td>Scarborough\\n</td>\n",
              "      <td>Cedarbrae</td>\n",
              "      <td>43.76944</td>\n",
              "      <td>-79.23892</td>\n",
              "    </tr>\n",
              "    <tr>\n",
              "      <th>6</th>\n",
              "      <td>M1J\\n</td>\n",
              "      <td>Scarborough\\n</td>\n",
              "      <td>Scarborough Village</td>\n",
              "      <td>43.74446</td>\n",
              "      <td>-79.23117</td>\n",
              "    </tr>\n",
              "    <tr>\n",
              "      <th>7</th>\n",
              "      <td>M1K\\n</td>\n",
              "      <td>Scarborough\\n</td>\n",
              "      <td>Kennedy Park, Ionview, East Birchmount Park</td>\n",
              "      <td>43.72582</td>\n",
              "      <td>-79.26461</td>\n",
              "    </tr>\n",
              "    <tr>\n",
              "      <th>8</th>\n",
              "      <td>M1L\\n</td>\n",
              "      <td>Scarborough\\n</td>\n",
              "      <td>Golden Mile, Clairlea, Oakridge</td>\n",
              "      <td>43.71289</td>\n",
              "      <td>-79.28506</td>\n",
              "    </tr>\n",
              "    <tr>\n",
              "      <th>9</th>\n",
              "      <td>M1M\\n</td>\n",
              "      <td>Scarborough\\n</td>\n",
              "      <td>Cliffside, Cliffcrest, Scarborough Village West</td>\n",
              "      <td>43.72360</td>\n",
              "      <td>-79.23496</td>\n",
              "    </tr>\n",
              "    <tr>\n",
              "      <th>10</th>\n",
              "      <td>M1N\\n</td>\n",
              "      <td>Scarborough\\n</td>\n",
              "      <td>Birch Cliff, Cliffside West</td>\n",
              "      <td>43.69510</td>\n",
              "      <td>-79.26466</td>\n",
              "    </tr>\n",
              "    <tr>\n",
              "      <th>11</th>\n",
              "      <td>M1P\\n</td>\n",
              "      <td>Scarborough\\n</td>\n",
              "      <td>Dorset Park, Wexford Heights, Scarborough Town...</td>\n",
              "      <td>43.75998</td>\n",
              "      <td>-79.26940</td>\n",
              "    </tr>\n",
              "    <tr>\n",
              "      <th>12</th>\n",
              "      <td>M1R\\n</td>\n",
              "      <td>Scarborough\\n</td>\n",
              "      <td>Wexford, Maryvale</td>\n",
              "      <td>43.75075</td>\n",
              "      <td>-79.30054</td>\n",
              "    </tr>\n",
              "    <tr>\n",
              "      <th>13</th>\n",
              "      <td>M1S\\n</td>\n",
              "      <td>Scarborough\\n</td>\n",
              "      <td>Agincourt</td>\n",
              "      <td>43.79452</td>\n",
              "      <td>-79.26708</td>\n",
              "    </tr>\n",
              "    <tr>\n",
              "      <th>14</th>\n",
              "      <td>M1T\\n</td>\n",
              "      <td>Scarborough\\n</td>\n",
              "      <td>Clarks Corners, Tam O'Shanter, Sullivan</td>\n",
              "      <td>43.78491</td>\n",
              "      <td>-79.29722</td>\n",
              "    </tr>\n",
              "  </tbody>\n",
              "</table>\n",
              "</div>"
            ],
            "text/plain": [
              "   Postalcode         Borough  ...  Latitude  Longitude\n",
              "0       M1A\\n  Not assigned\\n  ...  43.64869  -79.38544\n",
              "1       M1B\\n   Scarborough\\n  ...  43.81139  -79.19662\n",
              "2       M1C\\n   Scarborough\\n  ...  43.78574  -79.15875\n",
              "3       M1E\\n   Scarborough\\n  ...  43.76575  -79.17470\n",
              "4       M1G\\n   Scarborough\\n  ...  43.76812  -79.21761\n",
              "5       M1H\\n   Scarborough\\n  ...  43.76944  -79.23892\n",
              "6       M1J\\n   Scarborough\\n  ...  43.74446  -79.23117\n",
              "7       M1K\\n   Scarborough\\n  ...  43.72582  -79.26461\n",
              "8       M1L\\n   Scarborough\\n  ...  43.71289  -79.28506\n",
              "9       M1M\\n   Scarborough\\n  ...  43.72360  -79.23496\n",
              "10      M1N\\n   Scarborough\\n  ...  43.69510  -79.26466\n",
              "11      M1P\\n   Scarborough\\n  ...  43.75998  -79.26940\n",
              "12      M1R\\n   Scarborough\\n  ...  43.75075  -79.30054\n",
              "13      M1S\\n   Scarborough\\n  ...  43.79452  -79.26708\n",
              "14      M1T\\n   Scarborough\\n  ...  43.78491  -79.29722\n",
              "\n",
              "[15 rows x 5 columns]"
            ]
          },
          "metadata": {
            "tags": []
          },
          "execution_count": 7
        }
      ]
    },
    {
      "cell_type": "code",
      "metadata": {
        "id": "LsBxsR9kO75Q"
      },
      "source": [
        "df.to_csv('toronto_part2.csv',index=False)"
      ],
      "execution_count": 9,
      "outputs": []
    }
  ]
}